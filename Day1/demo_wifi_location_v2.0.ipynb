{
 "cells": [
  {
   "cell_type": "markdown",
   "metadata": {},
   "source": [
    "# Demo: Spatial reasoning using WiFi Fingerprinting\n",
    "\n",
    "Course: NICF- Spatial Reasoning from Sensor Data (SF)\n",
    "\n",
    "Website: https://www.iss.nus.edu.sg/executive-education/course/detail/spatial-reasoning-from-sensor-data/artificial-intelligence\n",
    "\n",
    "Contact: Dr. Tian Jing\n",
    "\n",
    "Email: tianjing@nus.edu.sg\n",
    "\n",
    "- Dataset: UJIIndoorLoc Dataset: https://www.kaggle.com/giantuji/UjiIndoorLoc"
   ]
  },
  {
   "cell_type": "code",
   "execution_count": 1,
   "metadata": {},
   "outputs": [
    {
     "name": "stderr",
     "output_type": "stream",
     "text": [
      "Using TensorFlow backend.\n"
     ]
    }
   ],
   "source": [
    "import pandas as pd\n",
    "import tensorflow as tf\n",
    "import numpy as np\n",
    "import os\n",
    "from sklearn.preprocessing import scale\n",
    "from keras.models import Sequential\n",
    "from keras.layers import Dense, Dropout"
   ]
  },
  {
   "cell_type": "code",
   "execution_count": 2,
   "metadata": {},
   "outputs": [],
   "source": [
    "# os.environ[\"CUDA_DEVICE_ORDER\"] = \"PCI_BUS_ID\"\n",
    "# os.environ[\"CUDA_VISIBLE_DEVICES\"] = \"0\"  # model will be trained on GPU"
   ]
  },
  {
   "cell_type": "code",
   "execution_count": 3,
   "metadata": {},
   "outputs": [
    {
     "name": "stdout",
     "output_type": "stream",
     "text": [
      "(19930, 13)\n"
     ]
    }
   ],
   "source": [
    "path_train = \"UJIIndoorLoc_trainingData.csv\"\n",
    "path_validation = \"UJIIndoorLoc_validationData.csv\"\n",
    "\n",
    "#Explicitly pass header=0 to be able to replace existing names \n",
    "train_df = pd.read_csv(path_train,header = 0)\n",
    "train_df = train_df[:19930]\n",
    "train_AP_strengths = train_df.iloc[:,:520] #select first 520 columns\n",
    "\n",
    "#Scale transforms data to center to the mean and component wise scale to unit variance\n",
    "train_AP_features = scale(np.asarray(train_AP_strengths).astype('float64'))\n",
    "\n",
    "#The following two objects are actually pandas.core.series.Series objects\n",
    "building_ids_str = train_df[\"BUILDINGID\"].map(str) #convert all the building ids to strings\n",
    "building_floors_str = train_df[\"FLOOR\"].map(str) #convert all the building floors to strings\n",
    "\n",
    "res = building_ids_str + building_floors_str #element wise concatenation of BUILDINGID+FLOOR\n",
    "train_labels = np.asarray(building_ids_str + building_floors_str)\n",
    "\n",
    "#convert labels to categorical variables, dummy_labels has type 'pandas.core.frame.DataFrame'\n",
    "dummy_labels = pd.get_dummies(train_labels)\n",
    "\n",
    "# one hot encode the dummy_labels. this is done because dummy_labels is a dataframe with the labels (BUILDINGID+FLOOR) as the column names\n",
    "\n",
    "train_labels = np.asarray(dummy_labels)\n",
    "\n",
    "print(train_labels.shape)"
   ]
  },
  {
   "cell_type": "code",
   "execution_count": 4,
   "metadata": {},
   "outputs": [],
   "source": [
    "# Split dataset\n",
    "train_val_split = np.random.rand(len(train_AP_features))\n",
    "train_val_split = train_val_split < 0.70 #should contain ~70% percent true\n",
    "# We will then split our given training set into training + validation \n",
    "train_X = train_AP_features[train_val_split]\n",
    "train_y = train_labels[train_val_split]\n",
    "val_X = train_AP_features[~train_val_split]\n",
    "val_y = train_labels[~train_val_split]\n"
   ]
  },
  {
   "cell_type": "code",
   "execution_count": 5,
   "metadata": {},
   "outputs": [
    {
     "name": "stderr",
     "output_type": "stream",
     "text": [
      "C:\\Users\\Tian\\Anaconda3\\envs\\srsdv\\lib\\site-packages\\sklearn\\utils\\validation.py:475: DataConversionWarning: Data with input dtype int64 was converted to float64 by the scale function.\n",
      "  warnings.warn(msg, DataConversionWarning)\n"
     ]
    }
   ],
   "source": [
    "#Turn the given validation set into a testing set\n",
    "test_df = pd.read_csv(path_validation,header = 0)\n",
    "test_AP_features = scale(np.asarray(test_df.iloc[:,0:520]))\n",
    "test_labels = np.asarray(test_df[\"BUILDINGID\"].map(str) + test_df[\"FLOOR\"].map(str))\n",
    "test_labels = np.asarray(pd.get_dummies(test_labels))"
   ]
  },
  {
   "cell_type": "code",
   "execution_count": 6,
   "metadata": {},
   "outputs": [],
   "source": [
    "nb_epochs = 10\n",
    "batch_size = 10\n",
    "input_size = 520\n",
    "num_classes = 13"
   ]
  },
  {
   "cell_type": "code",
   "execution_count": 7,
   "metadata": {},
   "outputs": [
    {
     "name": "stdout",
     "output_type": "stream",
     "text": [
      "_________________________________________________________________\n",
      "Layer (type)                 Output Shape              Param #   \n",
      "=================================================================\n",
      "dense_1 (Dense)              (None, 256)               133376    \n",
      "_________________________________________________________________\n",
      "dense_2 (Dense)              (None, 128)               32896     \n",
      "_________________________________________________________________\n",
      "dense_3 (Dense)              (None, 64)                8256      \n",
      "=================================================================\n",
      "Total params: 174,528\n",
      "Trainable params: 174,528\n",
      "Non-trainable params: 0\n",
      "_________________________________________________________________\n",
      "_________________________________________________________________\n",
      "Layer (type)                 Output Shape              Param #   \n",
      "=================================================================\n",
      "dense_1 (Dense)              (None, 256)               133376    \n",
      "_________________________________________________________________\n",
      "dense_2 (Dense)              (None, 128)               32896     \n",
      "_________________________________________________________________\n",
      "dense_3 (Dense)              (None, 64)                8256      \n",
      "_________________________________________________________________\n",
      "dense_4 (Dense)              (None, 128)               8320      \n",
      "_________________________________________________________________\n",
      "dense_5 (Dense)              (None, 256)               33024     \n",
      "_________________________________________________________________\n",
      "dense_6 (Dense)              (None, 520)               133640    \n",
      "=================================================================\n",
      "Total params: 349,512\n",
      "Trainable params: 349,512\n",
      "Non-trainable params: 0\n",
      "_________________________________________________________________\n"
     ]
    }
   ],
   "source": [
    "#Define model\n",
    "def encoder():\n",
    "    model = Sequential()\n",
    "    model.add(Dense(256, input_dim=input_size, activation='tanh', use_bias=True))\n",
    "    model.add(Dense(128, activation='tanh', use_bias=True))\n",
    "    model.add(Dense(64, activation='tanh', use_bias=True))\n",
    "    return model\n",
    "\n",
    "def decoder(e):   \n",
    "    e.add(Dense(128, input_dim=64, activation='tanh', use_bias=True))\n",
    "    e.add(Dense(256, activation='tanh', use_bias=True))\n",
    "    e.add(Dense(input_size, activation='tanh', use_bias=True))\n",
    "    e.compile(optimizer='adam', loss='mse')\n",
    "    return e\n",
    "    \n",
    "e = encoder()\n",
    "e.summary()\n",
    "\n",
    "d_pre = decoder(e)\n",
    "d_pre.summary()\n",
    " "
   ]
  },
  {
   "cell_type": "code",
   "execution_count": 8,
   "metadata": {},
   "outputs": [
    {
     "name": "stdout",
     "output_type": "stream",
     "text": [
      "Epoch 1/10\n",
      "13935/13935 [==============================] - 19s 1ms/step - loss: 0.6963\n",
      "Epoch 2/10\n",
      "13935/13935 [==============================] - 16s 1ms/step - loss: 0.6724: 0s - loss: 0.671\n",
      "Epoch 3/10\n",
      "13935/13935 [==============================] - 20s 1ms/step - loss: 0.6667\n",
      "Epoch 4/10\n",
      "13935/13935 [==============================] - 15s 1ms/step - loss: 0.6637\n",
      "Epoch 5/10\n",
      "13935/13935 [==============================] - 15s 1ms/step - loss: 0.6617\n",
      "Epoch 6/10\n",
      "13935/13935 [==============================] - 16s 1ms/step - loss: 0.6598\n",
      "Epoch 7/10\n",
      "13935/13935 [==============================] - 15s 1ms/step - loss: 0.6582\n",
      "Epoch 8/10\n",
      "13935/13935 [==============================] - 15s 1ms/step - loss: 0.6569\n",
      "Epoch 9/10\n",
      "13935/13935 [==============================] - 16s 1ms/step - loss: 0.6557: 0s\n",
      "Epoch 10/10\n",
      "13935/13935 [==============================] - 15s 1ms/step - loss: 0.6544\n"
     ]
    },
    {
     "data": {
      "text/plain": [
       "<keras.callbacks.History at 0x241c216b8d0>"
      ]
     },
     "execution_count": 8,
     "metadata": {},
     "output_type": "execute_result"
    }
   ],
   "source": [
    "d_pre.fit(train_X, train_X, epochs=nb_epochs, batch_size=batch_size)"
   ]
  },
  {
   "cell_type": "code",
   "execution_count": 9,
   "metadata": {},
   "outputs": [
    {
     "name": "stdout",
     "output_type": "stream",
     "text": [
      "Train on 13935 samples, validate on 5995 samples\n",
      "Epoch 1/10\n",
      "13935/13935 [==============================] - 18s 1ms/step - loss: 0.3304 - acc: 0.8841 - val_loss: 0.1917 - val_acc: 0.9403\n",
      "Epoch 2/10\n",
      "13935/13935 [==============================] - 12s 858us/step - loss: 0.1434 - acc: 0.9532 - val_loss: 0.1702 - val_acc: 0.9466\n",
      "Epoch 3/10\n",
      "13935/13935 [==============================] - 11s 759us/step - loss: 0.1160 - acc: 0.9616 - val_loss: 0.1651 - val_acc: 0.9498\n",
      "Epoch 4/10\n",
      "13935/13935 [==============================] - 10s 703us/step - loss: 0.0990 - acc: 0.9680 - val_loss: 0.1571 - val_acc: 0.9578\n",
      "Epoch 5/10\n",
      "13935/13935 [==============================] - 10s 686us/step - loss: 0.0926 - acc: 0.9672 - val_loss: 0.1499 - val_acc: 0.9551\n",
      "Epoch 6/10\n",
      "13935/13935 [==============================] - 10s 744us/step - loss: 0.0828 - acc: 0.9734 - val_loss: 0.1474 - val_acc: 0.9545\n",
      "Epoch 7/10\n",
      "13935/13935 [==============================] - 12s 836us/step - loss: 0.0690 - acc: 0.9760 - val_loss: 0.1562 - val_acc: 0.9551\n",
      "Epoch 8/10\n",
      "13935/13935 [==============================] - 10s 718us/step - loss: 0.0748 - acc: 0.9746 - val_loss: 0.1402 - val_acc: 0.9588\n",
      "Epoch 9/10\n",
      "13935/13935 [==============================] - 10s 686us/step - loss: 0.0615 - acc: 0.9795 - val_loss: 0.1239 - val_acc: 0.9628\n",
      "Epoch 10/10\n",
      "13935/13935 [==============================] - 10s 726us/step - loss: 0.0632 - acc: 0.9787 - val_loss: 0.1292 - val_acc: 0.9630\n",
      "_________________________________________________________________\n",
      "Layer (type)                 Output Shape              Param #   \n",
      "=================================================================\n",
      "dense_1 (Dense)              (None, 256)               133376    \n",
      "_________________________________________________________________\n",
      "dense_2 (Dense)              (None, 128)               32896     \n",
      "_________________________________________________________________\n",
      "dense_3 (Dense)              (None, 64)                8256      \n",
      "_________________________________________________________________\n",
      "dense_7 (Dense)              (None, 128)               8320      \n",
      "_________________________________________________________________\n",
      "dense_8 (Dense)              (None, 128)               16512     \n",
      "_________________________________________________________________\n",
      "dense_9 (Dense)              (None, 13)                1677      \n",
      "=================================================================\n",
      "Total params: 201,037\n",
      "Trainable params: 201,037\n",
      "Non-trainable params: 0\n",
      "_________________________________________________________________\n"
     ]
    }
   ],
   "source": [
    "# Based on trained autoencoder features, define a classification model\n",
    "\n",
    "def classifier(d):\n",
    "    num_to_remove = 3\n",
    "    for i in range(num_to_remove):\n",
    "        d.pop()\n",
    "    d.add(Dense(128, input_dim=64, activation='tanh', use_bias=True))\n",
    "    d.add(Dense(128, activation='tanh', use_bias=True))\n",
    "    d.add(Dense(num_classes, activation='softmax', use_bias=True))\n",
    "    d.compile(optimizer='adam', loss='categorical_crossentropy', metrics=['accuracy'])\n",
    "    return d\n",
    "\n",
    "c = classifier(d_pre)\n",
    "c.fit(train_X, train_y, validation_data=(val_X, val_y), epochs=nb_epochs, batch_size=batch_size)\n",
    "c.summary()\n"
   ]
  },
  {
   "cell_type": "code",
   "execution_count": 10,
   "metadata": {},
   "outputs": [
    {
     "name": "stdout",
     "output_type": "stream",
     "text": [
      "Accuracy: 0.7066\n"
     ]
    }
   ],
   "source": [
    "# Evaluate the performance\n",
    "\n",
    "loss, acc = c.evaluate(test_AP_features, test_labels, verbose=0)\n",
    "print('Accuracy: %.4f' % acc)"
   ]
  },
  {
   "cell_type": "markdown",
   "metadata": {},
   "source": [
    "Have a nice day!"
   ]
  }
 ],
 "metadata": {
  "kernelspec": {
   "display_name": "Python 3",
   "language": "python",
   "name": "python3"
  },
  "language_info": {
   "codemirror_mode": {
    "name": "ipython",
    "version": 3
   },
   "file_extension": ".py",
   "mimetype": "text/x-python",
   "name": "python",
   "nbconvert_exporter": "python",
   "pygments_lexer": "ipython3",
   "version": "3.6.8"
  }
 },
 "nbformat": 4,
 "nbformat_minor": 1
}
